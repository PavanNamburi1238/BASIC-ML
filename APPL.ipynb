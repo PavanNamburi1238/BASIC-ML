{
  "nbformat": 4,
  "nbformat_minor": 0,
  "metadata": {
    "colab": {
      "name": "APPL.ipynb",
      "provenance": [],
      "authorship_tag": "ABX9TyPBvgo8Me5s8fEkQ88bdn/x",
      "include_colab_link": true
    },
    "kernelspec": {
      "name": "python3",
      "display_name": "Python 3"
    },
    "language_info": {
      "name": "python"
    }
  },
  "cells": [
    {
      "cell_type": "markdown",
      "metadata": {
        "id": "view-in-github",
        "colab_type": "text"
      },
      "source": [
        "<a href=\"https://colab.research.google.com/github/PavanNamburi1238/BASIC-ML/blob/main/APPL.ipynb\" target=\"_parent\"><img src=\"https://colab.research.google.com/assets/colab-badge.svg\" alt=\"Open In Colab\"/></a>"
      ]
    },
    {
      "cell_type": "markdown",
      "metadata": {
        "id": "4e61qfhejxDo"
      },
      "source": [
        "# 1.Program\n"
      ]
    },
    {
      "cell_type": "code",
      "metadata": {
        "colab": {
          "base_uri": "https://localhost:8080/"
        },
        "id": "GbDIZgCYj8_4",
        "outputId": "b12f7c3b-b955-4a1d-a675-d83f57b267c4"
      },
      "source": [
        "a=3\n",
        "b=5\n",
        "print(a*b)"
      ],
      "execution_count": 2,
      "outputs": [
        {
          "output_type": "stream",
          "text": [
            "15\n"
          ],
          "name": "stdout"
        }
      ]
    },
    {
      "cell_type": "markdown",
      "metadata": {
        "id": "P0pwpk6gkFqT"
      },
      "source": [
        "#2.Program"
      ]
    },
    {
      "cell_type": "code",
      "metadata": {
        "colab": {
          "base_uri": "https://localhost:8080/"
        },
        "id": "tJSIaIiCkAlq",
        "outputId": "bc3fc416-784a-46a7-e38a-17f572958a34"
      },
      "source": [
        "a=3 #cost of puma\n",
        "b=5 #cost of adidas\n",
        "if a>b: \n",
        "\n",
        "     print(\"puma is costlier\")\n",
        "else:\n",
        "\n",
        "     print(\"adidas is costlier\")"
      ],
      "execution_count": 3,
      "outputs": [
        {
          "output_type": "stream",
          "text": [
            "adidas is costlier\n"
          ],
          "name": "stdout"
        }
      ]
    },
    {
      "cell_type": "markdown",
      "metadata": {
        "id": "cuKCvkmpkOJu"
      },
      "source": [
        "#3.Program"
      ]
    },
    {
      "cell_type": "code",
      "metadata": {
        "colab": {
          "base_uri": "https://localhost:8080/"
        },
        "id": "_HZvvOzgkQ-2",
        "outputId": "1fab2fac-52c0-4425-e493-161fd1ee9599"
      },
      "source": [
        "a=1980 #Flipkart price\n",
        "b=2000 #Amazon price\n",
        "if (a<b): \n",
        "       print(\"Flipkart is better\") \n",
        "elif (a==b): \n",
        "       print(\"Both are better\") \n",
        "else: \n",
        "       print(\"Amazon is better\")"
      ],
      "execution_count": 4,
      "outputs": [
        {
          "output_type": "stream",
          "text": [
            "Flipkart is better\n"
          ],
          "name": "stdout"
        }
      ]
    },
    {
      "cell_type": "code",
      "metadata": {
        "id": "2TOuNX3qkWQY"
      },
      "source": [
        ""
      ],
      "execution_count": null,
      "outputs": []
    }
  ]
}